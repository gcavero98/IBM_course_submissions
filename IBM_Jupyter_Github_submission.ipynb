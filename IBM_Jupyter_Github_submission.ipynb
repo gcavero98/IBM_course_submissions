{
  "metadata": {
    "language_info": {
      "codemirror_mode": {
        "name": "python",
        "version": 3
      },
      "file_extension": ".py",
      "mimetype": "text/x-python",
      "name": "python",
      "nbconvert_exporter": "python",
      "pygments_lexer": "ipython3",
      "version": "3.8"
    },
    "kernelspec": {
      "name": "python",
      "display_name": "Python (Pyodide)",
      "language": "python"
    }
  },
  "nbformat_minor": 4,
  "nbformat": 4,
  "cells": [
    {
      "cell_type": "markdown",
      "source": "# Jupyter Submission ",
      "metadata": {}
    },
    {
      "cell_type": "markdown",
      "source": "#### Introduction\n\n##### This jupyter notebook is the requested work to be submitted for the Coursera's course.",
      "metadata": {}
    },
    {
      "cell_type": "markdown",
      "source": "### Data Science Languages\n\n##### - Python, R, Julia, C##, SQL, Java, Javascript, etc.",
      "metadata": {}
    },
    {
      "cell_type": "markdown",
      "source": "### Data Science libraries:\n\n#### Pandas, Matplotlib, Numpy, Scipy, Sci-kit Learn, TensorFlow, Keras, ggplot2, caret, seaborn, etc.",
      "metadata": {}
    },
    {
      "cell_type": "markdown",
      "source": "### Data Science Tools",
      "metadata": {}
    },
    {
      "cell_type": "markdown",
      "source": "| Tool               | Description                                       | Website                                    |\n|--------------------|---------------------------------------------------|--------------------------------------------|\n| JupyterLite        | Lightweight Jupyter environment for the web     | [JupyterLite](https://jupyterlite.github.io/) |\n| Jupyter Notebook   | Interactive notebooks for data analysis          | [Jupyter](https://jupyter.org/)           |\n| JupyterLab         | Extensible environment for interactive computing | [JupyterLab](https://jupyterlab.readthedocs.io/en/stable/) |\n| NumPy              | Numerical computing library for Python            | [NumPy](https://numpy.org/)               |\n| pandas             | Data manipulation and analysis library           | [pandas](https://pandas.pydata.org/)     |\n| Matplotlib         | 2D plotting library for Python                    | [Matplotlib](https://matplotlib.org/)     |\n| Seaborn            | Data visualization library based on Matplotlib    | [Seaborn](https://seaborn.pydata.org/)   |\n| SciPy              | Scientific library for Python                     | [SciPy](https://www.scipy.org/)           |\n| scikit-learn       | Machine learning library for Python               | [scikit-learn](https://scikit-learn.org/) |\n| TensorFlow         | Open-source machine learning framework            | [TensorFlow](https://www.tensorflow.org/) |\n| PyTorch            | Deep learning framework for Python                | [PyTorch](https://pytorch.org/)           |\n| Statsmodels        | Statistical modeling library for Python           | [Statsmodels](https://www.statsmodels.org/) |\n| Plotly             | Interactive plotting library                      | [Plotly](https://plotly.com/python/)      |\n",
      "metadata": {}
    },
    {
      "cell_type": "markdown",
      "source": "### Arithmetic operation example: 5 * 10 = 50",
      "metadata": {}
    },
    {
      "cell_type": "code",
      "source": "# Multiplication\nresult_multiply = 5 * 10\nprint(\"Multiplication result:\", result_multiply)\n\n# Addition\nresult_addition = 7 + 3\nprint(\"Addition result:\", result_addition)\n",
      "metadata": {
        "trusted": true
      },
      "execution_count": 3,
      "outputs": [
        {
          "name": "stdout",
          "text": "Multiplication result: 50\nAddition result: 10\n",
          "output_type": "stream"
        }
      ]
    },
    {
      "cell_type": "code",
      "source": "# Conversion: Minutes to Hours\nminutes = 120\nhours = minutes / 60\nprint(f\"{minutes} minutes is equal to {hours} hours.\")\n",
      "metadata": {
        "trusted": true
      },
      "execution_count": 4,
      "outputs": [
        {
          "name": "stdout",
          "text": "120 minutes is equal to 2.0 hours.\n",
          "output_type": "stream"
        }
      ]
    },
    {
      "cell_type": "markdown",
      "source": "### Objectives\n\nIntroduce arithmetic expressions.\n\nPerform multiplication and addition.\n\nConvert minutes to hours.\n ",
      "metadata": {}
    },
    {
      "cell_type": "markdown",
      "source": "### Author: Gerard",
      "metadata": {}
    },
    {
      "cell_type": "code",
      "source": "",
      "metadata": {},
      "execution_count": null,
      "outputs": []
    }
  ]
}